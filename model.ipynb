{
 "cells": [
  {
   "cell_type": "markdown",
   "id": "b5d0b17a",
   "metadata": {},
   "source": [
    "# Introduction\n",
    "[insert intro]"
   ]
  },
  {
   "cell_type": "code",
   "execution_count": null,
   "id": "5855e05e",
   "metadata": {},
   "outputs": [],
   "source": [
    "%pip install pandas\n",
    "%pip install matplotlib"
   ]
  },
  {
   "cell_type": "code",
   "execution_count": null,
   "id": "d6de81df",
   "metadata": {},
   "outputs": [],
   "source": [
    "import math\n",
    "import pandas as pd\n",
    "import matplotlib.pyplot as plt\n",
    "\n",
    "# Constants\n",
    "g = 9.81                  # gravity [m/s^2]\n",
    "rho = 1000                # density of water [kg/m^3]\n",
    "mu = 0.001                # dynamic viscosity [Pa·s]\n",
    "eps = 1.5e-6              # pipe roughness [m] (smooth plastic)\n",
    "D = 0.00794               # pipe diameter [m]\n",
    "A = math.pi * (D / 2) ** 2  # pipe cross-sectional area [m^2]\n",
    "\n",
    "# Estimate tank area (cylinder with radius ~2.5cm)\n",
    "tank_radius = 0.025      # [m]\n",
    "A_t = math.pi * tank_radius ** 2  # tank cross-sectional area [m^2]\n",
    "\n",
    "# Height values\n",
    "h0 = 0.08    # initial height [m]\n",
    "hf = 0.00    # final height [m]\n",
    "sqrt_h_term = math.sqrt(h0) - math.sqrt(hf)"
   ]
  },
  {
   "cell_type": "code",
   "execution_count": null,
   "id": "f82dd444",
   "metadata": {},
   "outputs": [],
   "source": [
    "# Compute drain time for given L and K\n",
    "def compute_drain_time(L, K):\n",
    "    f = 0.0\n",
    "    v = 0.0\n",
    "    Re = 0.0\n",
    "\n",
    "    # TODO: Iterate to find f and v\n",
    "\n",
    "    T = (2 * A_t / A) * math.sqrt((1 + f * L / D + K) / (2 * g)) * sqrt_h_term\n",
    "    return round(T, 2), round(v, 3), int(Re), round(f, 5)"
   ]
  },
  {
   "cell_type": "code",
   "execution_count": null,
   "id": "89c4098f",
   "metadata": {},
   "outputs": [],
   "source": [
    "cases = [\n",
    "    {\"label\": \"L = 20 cm\", \"L\": 0.20, \"K\": 1.0},\n",
    "    {\"label\": \"L = 30 cm\", \"L\": 0.30, \"K\": 1.0},\n",
    "    {\"label\": \"L = 40 cm\", \"L\": 0.40, \"K\": 1.0},\n",
    "    {\"label\": \"L = 60 cm\", \"L\": 0.60, \"K\": 1.0},\n",
    "    {\"label\": \"L = 40 cm + T-joint\", \"L\": 0.40, \"K\": 2.0},\n",
    "]\n"
   ]
  },
  {
   "cell_type": "markdown",
   "id": "f763f90f",
   "metadata": {},
   "source": [
    "# Conclusion\n",
    "[insert results and conclusion]"
   ]
  }
 ],
 "metadata": {
  "kernelspec": {
   "display_name": "Python 3",
   "language": "python",
   "name": "python3"
  },
  "language_info": {
   "codemirror_mode": {
    "name": "ipython",
    "version": 3
   },
   "file_extension": ".py",
   "mimetype": "text/x-python",
   "name": "python",
   "nbconvert_exporter": "python",
   "pygments_lexer": "ipython3",
   "version": "3.10.13"
  }
 },
 "nbformat": 4,
 "nbformat_minor": 5
}

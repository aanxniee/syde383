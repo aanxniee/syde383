{
 "cells": [
  {
   "cell_type": "markdown",
   "id": "b5d0b17a",
   "metadata": {},
   "source": [
    "# Introduction\n",
    "\n",
    "[insert intro]\n"
   ]
  },
  {
   "cell_type": "code",
   "execution_count": null,
   "id": "5855e05e",
   "metadata": {},
   "outputs": [],
   "source": [
    "%pip install pandas\n",
    "%pip install matplotlib"
   ]
  },
  {
   "cell_type": "code",
   "execution_count": null,
   "id": "d6de81df",
   "metadata": {},
   "outputs": [],
   "source": [
    "import math\n",
    "import pandas as pd\n",
    "import matplotlib.pyplot as plt\n",
    "\n",
    "# Constants\n",
    "g = 9.81                        # gravity [m/s^2]\n",
    "rho = 1000                      # density of water [kg/m^3]\n",
    "mu = 0.001                      # dynamic viscosity [Pa·s]\n",
    "kv = 1.004e-6                   # kinematic viscosity [m^2/s]\n",
    "\n",
    "eps = 1.5e-6                    # pipe roughness [m] (smooth plastic)\n",
    "D = 0.00794                     # pipe diameter [m]\n",
    "A = math.pi * (D / 2) ** 2      # pipe cross-sectional area [m^2]\n",
    "tank_length = 0.32              # [m]\n",
    "tank_width = 0.26               # [m]\n",
    "A_t = tank_length * tank_width  # [m^2]\n",
    "tolerance = 0.001               # tolerance to converge within\n",
    "K = 0.5                         # minor losses"
   ]
  },
  {
   "cell_type": "code",
   "execution_count": null,
   "id": "f82dd444",
   "metadata": {},
   "outputs": [],
   "source": [
    "# Compute drain time for given L and K\n",
    "def compute_drain_time(L):\n",
    "    # Height values\n",
    "    h0 = 0.1 + L/150     # initial height [m]\n",
    "    hf = 0.02 + L/150    # final height [m]\n",
    "    sqrt_h_term = math.sqrt(h0) - math.sqrt(hf)\n",
    "\n",
    "    f0 = 0.014\n",
    "    f1 = 0.0\n",
    "    v = 0.0\n",
    "    Re = 0.0\n",
    "\n",
    "    # Iterate until f converges\n",
    "    while True:\n",
    "        # Calculate velocity v (m/s)\n",
    "        v = math.sqrt(2 * g * h0 / (1 + f0 * L / D + K))\n",
    "\n",
    "        # Calculate Reynolds number\n",
    "        Re = v * D / kv\n",
    "\n",
    "        # Calculate friction factor based on flow regime\n",
    "        if Re < 2300:\n",
    "            # Laminar flow\n",
    "            f1 = 64 / Re\n",
    "        elif 2300 <= Re <= 4000:\n",
    "            # Transitional flow: average laminar and turbulent f\n",
    "            f_lam = 64 / Re\n",
    "            # Colebrook-White turbulent friction factor estimate\n",
    "            f_turb = 0.25 / (math.log10(eps / (3.7 * D) + 5.74 / (Re ** 0.9))) ** 2\n",
    "            f1 = (f_lam + f_turb) / 2\n",
    "        else:\n",
    "            # Turbulent flow (Colebrook-White formula approximation)\n",
    "            f1 = 0.25 / (math.log10(eps / (3.7 * D) + 5.74 / (Re ** 0.9))) ** 2\n",
    "\n",
    "        # Check convergence\n",
    "        if abs(f1 - f0) < 0.001:\n",
    "            break\n",
    "\n",
    "        f0 = f1\n",
    "\n",
    "\n",
    "    T = (2 * A_t / A) * math.sqrt((1 + f0 * L / D + K) / (2 * g)) * sqrt_h_term\n",
    "    return round(T, 2), round(v, 3), int(Re), round(f0, 5)"
   ]
  },
  {
   "cell_type": "code",
   "execution_count": null,
   "id": "89c4098f",
   "metadata": {},
   "outputs": [],
   "source": [
    "cases = [\n",
    "    {\"label\": \"L = 20 cm\", \"L\": 0.20},\n",
    "    {\"label\": \"L = 30 cm\", \"L\": 0.30},\n",
    "    {\"label\": \"L = 40 cm\", \"L\": 0.40},\n",
    "    {\"label\": \"L = 60 cm\", \"L\": 0.60},\n",
    "    # {\"label\": \"L = 40 cm + T-joint\", \"L\": 0.40},\n",
    "]\n",
    "\n",
    "# Run and collect results\n",
    "results = []\n",
    "for case in cases:\n",
    "    T, v, Re, f = compute_drain_time(case[\"L\"])\n",
    "    results.append({\n",
    "        \"Case\": case[\"label\"],\n",
    "        \"Length (m)\": case[\"L\"],\n",
    "        \"Drain Time (s)\": T,\n",
    "        \"Velocity (m/s)\": v,\n",
    "        \"Re\": Re,\n",
    "        \"f\": f\n",
    "    })\n",
    "\n",
    "# Convert to DataFrame\n",
    "df = pd.DataFrame(results)\n",
    "display(df)\n"
   ]
  },
  {
   "cell_type": "markdown",
   "id": "f763f90f",
   "metadata": {},
   "source": [
    "# Conclusion\n",
    "\n",
    "[insert results and conclusion]\n"
   ]
  }
 ],
 "metadata": {
  "kernelspec": {
   "display_name": "Python 3",
   "language": "python",
   "name": "python3"
  },
  "language_info": {
   "codemirror_mode": {
    "name": "ipython",
    "version": 3
   },
   "file_extension": ".py",
   "mimetype": "text/x-python",
   "name": "python",
   "nbconvert_exporter": "python",
   "pygments_lexer": "ipython3",
   "version": "3.10.13"
  }
 },
 "nbformat": 4,
 "nbformat_minor": 5
}
